{
 "cells": [
  {
   "cell_type": "code",
   "execution_count": 1,
   "metadata": {},
   "outputs": [],
   "source": [
    "import logging\n",
    "import math\n",
    "import numpy as np\n",
    "import os\n",
    "import random\n",
    "import tensorflow as tf\n",
    "\n",
    "from data.tiny_imagenet.read_tiny_imagenet import TinyImageNet"
   ]
  },
  {
   "cell_type": "code",
   "execution_count": 2,
   "metadata": {},
   "outputs": [],
   "source": [
    "\n",
    "import torch\n",
    "from torch.utils import data\n",
    "import torch.nn as nn\n",
    "import torch.optim as optim\n",
    "from torch.optim import lr_scheduler\n",
    "import numpy as np\n",
    "import torchvision\n",
    "from torchvision import datasets, models, transforms\n",
    "import matplotlib.pyplot as plt\n",
    "import time\n",
    "import os\n",
    "import copy\n",
    "from torchsummary import summary\n",
    "torch.cuda.empty_cache()"
   ]
  },
  {
   "cell_type": "code",
   "execution_count": null,
   "metadata": {},
   "outputs": [],
   "source": [
    "import os \n",
    "import json\n",
    "import pandas as pd\n",
    "from pathlib import Path\n",
    "\n",
    "dirname = r\"/labels/\"\n",
    "\n",
    "data15 = dirname + 'trainLabels15.csv'\n",
    "data19 = dirname + 'trainLabels19.csv'\n",
    "\n",
    "dirdata15 = r\"/resized_train_15/\"\n",
    "dirdata19 = r\"/resized_train_19/\"\n",
    "\n",
    "dataset_list = ['base', 'val', 'novel']\n",
    "\n",
    "def create(dirname, filename, dirdata, image_title, label_title, output):\n",
    "    datasets = [{'label_name':[1,2,3,4,5],\n",
    "                'image_names':[],\n",
    "                'image_labels':[]} for name in dataset_list]\n",
    "    train_file = pd.read_csv(filename)\n",
    "    files = os.listdir(dirdata)\n",
    "    for index, row in train_file.iterrows():\n",
    "        file = dirdata + row[image_title] + \".jpg\"\n",
    "        if index%5 in [0, 3, 4]:\n",
    "            datasets[0]['image_names'].append(file)\n",
    "            datasets[0]['image_labels'].append(row[label_title])\n",
    "        if index%5 == 1:\n",
    "            datasets[1]['image_names'].append(file)\n",
    "            datasets[1]['image_labels'].append(row[label_title])\n",
    "        if index%5 == 2:\n",
    "            datasets[2]['image_names'].append(file)\n",
    "            datasets[2]['image_labels'].append(row[label_title])\n",
    "    for name in dataset_list:\n",
    "        with open(dirname + name + output + '.json', 'w') as f:\n",
    "            json.dump(datasets[dataset_list.index(name)], f, indent=4)\n",
    "\n",
    "print(os.getcwd())\n",
    "create(dirname, data15, dirdata15, 'image', 'level', '15')\n",
    "create(dirname, data19, dirdata19, 'id_code', 'diagnosis', '19')\n",
    "\n",
    "        "
   ]
  }
 ],
 "metadata": {
  "kernelspec": {
   "display_name": "Python 3",
   "language": "python",
   "name": "python3"
  },
  "language_info": {
   "codemirror_mode": {
    "name": "ipython",
    "version": 3
   },
   "file_extension": ".py",
   "mimetype": "text/x-python",
   "name": "python",
   "nbconvert_exporter": "python",
   "pygments_lexer": "ipython3",
   "version": "3.7.4"
  }
 },
 "nbformat": 4,
 "nbformat_minor": 2
}
